{
  "nbformat": 4,
  "nbformat_minor": 0,
  "metadata": {
    "colab": {
      "provenance": [],
      "include_colab_link": true
    },
    "kernelspec": {
      "name": "python3",
      "display_name": "Python 3"
    },
    "language_info": {
      "name": "python"
    }
  },
  "cells": [
    {
      "cell_type": "markdown",
      "metadata": {
        "id": "view-in-github",
        "colab_type": "text"
      },
      "source": [
        "<a href=\"https://colab.research.google.com/github/Petrarco/aviation_case/blob/main/Teste_Spark.ipynb\" target=\"_parent\"><img src=\"https://colab.research.google.com/assets/colab-badge.svg\" alt=\"Open In Colab\"/></a>"
      ]
    },
    {
      "cell_type": "markdown",
      "source": [
        "#Install and Import Libraries"
      ],
      "metadata": {
        "id": "wL7Nd8HmZGRP"
      }
    },
    {
      "cell_type": "code",
      "execution_count": null,
      "metadata": {
        "id": "VM4J456qL3nH"
      },
      "outputs": [],
      "source": [
        "!pip install delta-spark==3.3.0\n",
        "!pip install pyspark==3.5.3\n",
        "!pip install gdown -q\n",
        "#!pip install databricks-connect"
      ]
    },
    {
      "cell_type": "code",
      "source": [
        "#Import all packages\n",
        "import os\n",
        "import zipfile\n",
        "import pyspark\n",
        "from pyspark.sql import SparkSession\n",
        "from delta import *\n",
        "from google.colab import drive\n",
        "from pyspark.sql.types import *\n",
        "from pyspark.sql.functions import *\n",
        "#Mount Your Drive\n",
        "#drive.mount('/content/drive', force_remount=True)"
      ],
      "metadata": {
        "id": "S4GUstBHzfFu"
      },
      "execution_count": null,
      "outputs": []
    },
    {
      "cell_type": "markdown",
      "source": [
        "#Download Files"
      ],
      "metadata": {
        "id": "RaYp8htrZNGL"
      }
    },
    {
      "cell_type": "code",
      "source": [
        "#Download arquivos\n",
        "def download_file(file_id, destination, file_name):\n",
        "\n",
        "  #create folder\n",
        "  os.mkdir(destination)\n",
        "  # Use gdown to download the file\n",
        "\n",
        "  file_name = 'airplane_data.zip'\n",
        "  output_path = f'{destination}/{file_name}'\n",
        "\n",
        "  print(f\"Baixando arquivo com gdown (ID: {file_id})\")\n",
        "  !gdown --id {file_id} -O {output_path}\n",
        "\n",
        "  print(f\"Download concluído. Verificando o tipo do arquivo: {output_path}\")\n",
        "  !file {output_path}\n",
        "\n",
        "\n",
        "#Unzip File\n",
        "def unzip_file(zip_file_path, extract_to_path):\n",
        "  try:\n",
        "    with zipfile.ZipFile(zip_file_path, 'r') as zip_ref:\n",
        "        zip_ref.extractall(extract_to_path)\n",
        "    print(f\"Successfully extracted '{zip_file_path}' to '{extract_to_path}'\")\n",
        "  except zipfile.BadZipFile:\n",
        "    print(f\"Error: '{zip_file_path}' is not a valid ZIP file.\")\n",
        "  except FileNotFoundError:\n",
        "    print(f\"Error: ZIP file '{zip_file_path}' not found.\")\n",
        "\n",
        "\n",
        "file_id = '1vvpkxrk7CRmOMnpEKYvoT8JccydQbW0x'\n",
        "destination = 'data'\n",
        "file_name = 'airplane_data.zip'\n",
        "file_path = f'{destination}/{file_name}'\n",
        "\n",
        "download_file(file_id, 'data', 'airplane_data.zip')\n",
        "unzip_file(file_path, destination)"
      ],
      "metadata": {
        "id": "Ypk1WZJBIOHD"
      },
      "execution_count": null,
      "outputs": []
    },
    {
      "cell_type": "markdown",
      "source": [
        "Configuração do ambiente para rodar pyspark"
      ],
      "metadata": {
        "id": "0uXhbfYgMEY2"
      }
    },
    {
      "cell_type": "code",
      "source": [
        "\n",
        "#Connect Spark Context\n",
        "builder = SparkSession.builder.appName(\"MyApp\") \\\n",
        "    .config(\"spark.sql.catalogImplementation\",\"hive\")\\\n",
        "    .config(\"spark.sql.extensions\", \"io.delta.sql.DeltaSparkSessionExtension\") \\\n",
        "    .config(\"spark.sql.catalog.spark_catalog\", \"org.apache.spark.sql.delta.catalog.DeltaCatalog\")\\\n",
        "    .config(\"spark.jars.packages\", \"io.delta:delta-core_2.12:2.4.0\")\n",
        "\n",
        "spark = configure_spark_with_delta_pip(builder).getOrCreate()\n",
        "\n",
        "spark"
      ],
      "metadata": {
        "id": "ONqAdxcHMc6b"
      },
      "execution_count": null,
      "outputs": []
    },
    {
      "cell_type": "markdown",
      "source": [
        "###Databases\n",
        "Crie dois databases sendo um para camada bronze e outro para a camada silver.\n",
        "\n",
        "O Nome dos Databases são:\n",
        "\n",
        "*   Bronze (b_nvr)\n",
        "*   Silver (s_nvr)\n",
        "\n",
        "\n"
      ],
      "metadata": {
        "id": "VWU3pUPU-wuW"
      }
    },
    {
      "cell_type": "code",
      "source": [
        "#Criar Database Bronze"
      ],
      "metadata": {
        "id": "icYP9P7OPh88"
      },
      "execution_count": null,
      "outputs": []
    },
    {
      "cell_type": "code",
      "source": [
        "#Criar Database Silver"
      ],
      "metadata": {
        "id": "mXC27PXxBy13"
      },
      "execution_count": null,
      "outputs": []
    },
    {
      "cell_type": "code",
      "source": [
        "spark.sql('show databases').show()"
      ],
      "metadata": {
        "id": "q9POnyHDMd7Y"
      },
      "execution_count": null,
      "outputs": []
    },
    {
      "cell_type": "markdown",
      "source": [
        "#Carga Bronze"
      ],
      "metadata": {
        "id": "X0C4rNBxcNoV"
      }
    },
    {
      "cell_type": "markdown",
      "source": [
        "Após a criação do database bronze estar concluido, carregue os arquivos da folder air_plane_data e crie uma tabela delta para cada path de arquivo, igual a imagem.\n",
        "\n",
        "![image.png](data:image/png;base64,iVBORw0KGgoAAAANSUhEUgAAAgAAAAB7CAYAAAACAjjRAAAAAXNSR0IArs4c6QAAAARnQU1BAACxjwv8YQUAAAAJcEhZcwAADsMAAA7DAcdvqGQAABbuSURBVHhe7d27rl3XdQbgfaIigFQnhQrxCRjHb6CCRoKASGEBRio7KVK7sAVXaWwVAYUgTuNAMGEDrtwkRSgYCeSCLyDkGY4LFoEaUyYkWZJPOI72bw39HPO6bnPt9X/CxNlrjjHHnOu29+L2IX318ssv35xERGQT3/72P55+8YufnrdElodr7k/O2yIisoGXXnrp/EpkHbjmrt555x19AyAiInIwV3/29z/UA4CIiMhBfO2N75zeu/+aHgBERHr92/2vn1/1++67/3t+JVI2xzX3sz/9Cz0AiIhMYW/Gf/fG/fNWu1/+x7t6AJAmc1xzeADQLwGKiExx8/zPUL1NpEd0LdU2Rw8AIiITRO+xtU2kR3Qt1TZPDwAyjP/7+T+90KaYo4ZIyc3zd9Xetif+vuRWUsqrrRNJjZ1Sc3TRtVTbPD0AyNBqb+BLvtllbPae2ttkPke6/6NrqbZ5egCQ4fz5P/zotoE+2GVkz/9c1f3fnvB9iW3ft7WjvFf4a6j1P09/C0CGgZsXbyj+Zq7tM6l+M9Kbleyf/Ub2N//2r89bX3jw9r+cX51On3/22enTTz89ffL7T06//+ST09tvPzhHvvCf//Xfu/tbAHyfetH9aUr3YlSTx6Tu3VReqWZuLpOrY1LzLm2Oa05/C0CGZTdWdKPyjRjdmKmbkMeIzIW/Yn3z+987ff7556ePP/ro9Ltnvzt9+OHT04dPn54ePHjwQu4lSd2frOZe9LVq791Snq9pUnk+bi3K97VK9ZbA11HvNacHABkabi7jb7YWPWNEat384eaF9oM33zx9/PFHp6e//e3z9vT043/9cZh3SWruzy3vxZ71bbnenOha6rnm9AAgw8GNyjcfnsjXfNIWKeE/YaH96Idv3f4p7Cc/+fcwbu2SLHF/ttbDe0Y0BrVa6pXMXa9WdC1Za73m9AAguzPqU7kc0x+ev6um2k8f/izsR7tEc96f+IMA2hxGX1+N6FpCa7nm9AAgIjLBzYT/jqb3T8stf9Je84MY1v4mwF9Drf95egCQ3YluNNz0a96EIsb+UNXbLlHpHkQ8+qDmmG3n8lNyuaX11Zi6vqmia6m2efprgCIineyvZP3NX907b7X71f/8Wv9nQNJkjmtOfw1QRGQG0Z+yaptIj+haqm2evgEQEelkfxqbSt8ASIs5rjl8A6AHABERkQP52hvf+eIB4N6jaz0AiIiIHMjDuzenq8dPnukBQERE5CDeev8D/RKgiIjIUekBQERE5ID0ACAiInJAVQ8Ar7/6yvmVjELnREREptjdNwD64NsfnTORfRj5XtX7yPyKDwB20B8/eXbe+lLqZEw9STae24imrrM137Ox0TmRetHxn3JORNaga3Qse38f6foGwHbQPoCiHZ3jg8lq+DbqAd3LOqWOnUORkekaHd+ezlH23wHABz3zDwAc5z6fa6J6XqlmKg4+htxU3PiY4XhKtA7D/dHcuTmjfC+qX9r2uGZLnGMpPKZlTchFDmK87eXqGR/3tcHPURoLrXOKtMhdd9E28kvXGuebXH1Tyk3FjY8ZjudwXcwHudrIRQ5ivO3l6hkf97XBz1EaC6U5l4J/B6D5AYD7arYN10kpzVkzn881ubiPmagvksrL1c/FTC4fSjl+uzS+J17CY2zbtMxpctt+fE09jpvSOJPaLo2N4iK1Utcdvza2bWqvtyi/VD+Xa2prmagvwnk8V6l2lG9S42vqcdyUxpnUds3YpRT/IaA5F9Jax+b2LTe+VHuNg5nSOncpPzoWtm39pnSsttCznmgfRzDasZXL1HqdLZlfyl3rnuiZh8estdaSUdZhmn4HoPQBNBer6VuJzY/Wyo/tGV/SWrs1f0k4tyOsJccfM17rFvuwl+Mm48L1M8I1NGUtfmzP+DXl1nqp93TzLwH6AzTCAbH57eSgtfJje2uktK5t6r4sAWvZ+jzn+GOG5qFvzX3YYk65DCO9D0xdix/bW2MtpbWi75Lu6dsHAN4hnHSPLwRuIxyUrdcQHTdoXRvn52rj+KfiW2rd75Fd0r7IPixxzfXW3PL61/vIMm5/CdAW5D88eNtEfR7iNbVyaufxrM/w/Klc34exHo+J1I5DnsVSc6f6fD6PZak46gHn5OI+lpub8TheW2nOlm3D9QxyfCw1zufmavsYz5mKcT2RGv7a9Nelf214uwT5qG9K9ZCLcYincrke4zEpfizPbbg2x1q2DdczyPGx1Difm6vtYzwnj1tK8m8BRIuXbemciMgc9F4iRv93wCIiIgeW/XcAlsBfeXgjPZnuZZ1r03ERGVfp/hzlGwC9j2yr6h8CEhERkcvyxweAe4+u9QAgIiJyIA/v3pyubp47b4uIyMqur69Pd+7cOW+JLO8b7/5GvwQoIiJyVHoAEBEROSA9AIiIiBxQ1QPA1dXV+ZWMQudERESm2N03APrgExFZht5f9631/BUfAKxg9BcFUhNNvYBsPLcRTV1na75nY0f9yxtrHoelrbm2kY+DjOMo14neR9bR9Q2A7ZB9AEU7NscHk9XwbdQDuJd1rsmOw6VYc18u6bjJco5yneh9ZB3ZBwB80LfgD0Fs28+lPiBRm+tjOxU3PhbFW9ix4hpRbbzmfoM+7gfr9+ckGu+hFhpridfgPGxHdTjmoS8Vw0//Gj99v9caK+VxHNupuEnFWnLl8qXOfWo7yo1wfu2YKBfbqbjxsSiewrnYjmpxzENfKoaf/jV++n6vNVbK4zi2U3GTi7Vo/gbAJsQHUPSBF8EY/8E1F187Wk8uzjGOT5Wa217jJ16bVH4vrsc1W+O9uA7mQE30Q2ldxudAah7TG/M4L8rN1crFGOfKcbRcJ8bn12ipX8rNxTnG8Vapuew1fuK1qZnf50BqHtMb8zgvys3VysVaJR8AMMkcWuvY3L7lxpdqz7UPPVrnLuVHx8K2rd+UjtVWllhTVDM3T8sapqx3rjXIcbVeJ0vml3LXvKaXmCuqmZunZQ1T1jvXGkqavgEofQDNxWr6VmLzo7XyY3vGl7TWbs1fEs7tFmvxx2Gu+eeu16N2DVsee9le7XWyhilr8WN7xk+1xPxz1+sx1xq6/icAbluy+VseFpgf21sjpXVtU/dlCVjL2ufZHwe0KUY4tq1rQN7ax162NdL7wNS1+LG9NaaYe/49vo/k3D4A8BsMJvB4Um5cYwtbryE6btC6Ns7P1cbxT8Xlq0rnovVc9VhjDtm/Ja6T3pq6Zr+qdDzWOF5T52j+BmA0+PCz1voB6Mf6VovH8fy5tfkY5PJ7+HpR3VI81T8nvwaI1uXjPXxN3heej+MQrSuVG/HjS+N655D9a7lOevj6pTmmrIXnQVuCnwuWmD93PHg+jkO0rlRuxI9vGRe5fQDwRVJFSxMhznmlcax2Hs/60O/jqVwPY32rUTvOxzgnGhfl15zoVBz10FgunurPiWqwKCfV5xv411DT5+ukYr6fc4zP43gq3/PjfCyVx/1yDP7c+2uAr4fe6wP1a+r5PB9P5XoY61sNzovGRTmpPt/Av4aaPl8nFfP9nGN8HsdT+Z4f52PR2JzdfwMgIiIi7V54AGh9gmiFry6iNpJofWhrW/qctIiOB5qIbCu6L9FGEq0PTdaz+jcA9mGWaiOJ1od2ZNHxQBORbUX3JRriI+C1+Sbrubr36FpHXERE5EAe3r05XT1+8kwPACIiIgfx1vsfnN67/5p+CVBEROSI9AAgIiJyQHoAEBEROaCqB4DXX33l/EpGoXMiIiJT7O4bAH3w1TvasdK1ISJSr/gAYG+qj588O299KfVmO/VN2MZzG9HUdbbmezY2Oiejm7LPIiIyr65vAPABFL2hz/HBZDV8G/WDYy/rHIUdIxERGUP23wHABz3zDwAc5z6fa6J6XqlmKg4+htxU3PiY4XhKtA7D/dHcuTmjfC+al+sZy6nJzcV9rKffthHHa59j/HjD8Ryem+vPVdtwXcxnEONt4HzTUg+iusD1oHZMTm09w+uwbeQglhtjaufjmJfKi/qtj3Nytdfg12mi9SHH74fhtXO+aakHUV3gesBjcnLjcmuxmG0jB7HcGJOb79Lh3wFofgDgvpptw3VSSnPWzOdzTS7uYybqi6TycvVzMZPLh1KO326tF8VNbT/XMqm4iepGfZGolkHfnLWN74vmMn7bj+e4ydUzXMPwGI4b7q8Zk9Naj+MmNR5yNXOxlFSN1PhU/lai+X2fvTa5bT+e4yZXz3ANw2M4brg/lcdy46IaHDep8ZCrGeVfsuI/BDTnAWmtY3P7lhtfqr3lSW2du5Q/5zmZw0jHfu3jwvNNPRZzrX/u4zC1Xuv4uddvSjUtbveWGe0eS+E11uxjzlz73Ftn6vyt4+fa371r+h2A6Oawbdw8c7GavpXY/Git/Nie8SWttVvz54RzyXOn+g36o9jW/Npa1zdl7Fxya+g5J7kxOal6xseieKQ0JhXrXT9MHb8mrHPL9ebWsMR7Qm6cj0XxSGlMLnYUzb8E6A/aCAfP5reLEa2VH9tbI6V1bT37Ynk4Dxg/Bea2Wl7Uj/nQRuPX1rrGKWPnUloD+lrOSTQmp7ZeLoflxsy9fjZ1/FqwTt/WVloD+vyxLJ2/lNrznsthuTG967w0tw8AfDPg4Hh8wLhxjS1svYbouEHr2jg/VRv9aFtp3b+5bT1/yRbrm3vOtfehdr5SXk0du3csb8t7aElrnzvTO+faa93i2Izi9pcA+cLnbRP1eYjX1MqpncezPsPzp3J9H8Z6PCZSOw55FkvNnerz+TzWwxjIjUnlGh+r6TeIWb+fz7+GVJ/H8Rw/luc3XNvU1s+Njeap2fY1c/ng8wF5qVoGMcxZMyYnVc/4muDni+bJjTGp+fw4zud5otzUeIjqbMWvFfx++HXWbvuauXzw+YC8VC2DGOaMakdy4/x8gHhqjtwYk5vv0iX/FsDRDsQe5M5JFNM5HIvOh2xJ158w/d8Bi4iIHFj23wFYgj2Npoz0lLqXdRpe6yU87S95/Nc+tzbfqOdkT9e59Bnh+tN1NpaqfwhIRERELssfHwDuPbrWA4CIiMiBPLx7c7q6ee68LSIiK7u+vj7duXPnvCWyvG+8+xv9EqCIiMhR6QFARETkgPQAICIickBVDwBXV1fnVzIKnRMREZlid98A6INvXDo3fXTcZDS6Jo+h+ABgF0L0FwVSF8jUC8fGcxvR1HW25ns2tuWcyFfhfPlWUpMjIvsw1/289/eFrm8AbKftAyja+Tn+VqHV8G3UgzzSOnPnRF7Ueu4sR0Qug+7nL2QfAPCh0oLfSLFtP0tvsr1Qm+tjOxU3PhbFW0QfJFFtvOZ+gz7uB+vvuXh9Xa6NbY5hm/uhFMNPH8c29xtscyzKBcRSOblYCnL9OB5fs43GcjHj41FOLual8qL+KEe2E50j8DGOY5tj2OZ+KMXw08exzf0G2xyLcgGxXE4EuamxHMdrr2YbDfCa+w36othImr8BsJ3BB1D0gRfBmJ4PrhJfO1pPLs4xjk+Vmtte4ydem1R+CcaZaBzXLeXwNpofw3GuZ1prGp9jr3nb87Eoh+Mt/NhWPG9uTT5mOM45HE9JzVM7XraTOneGYxw3Poe30XI1uZ5prWl8jr3mbc/HUjk5PD5Xv1WqNmqhHzjfGq9nFMkHAOzEHFrr2Ny+5caXas+1Dz1a5y7lz3lO2NS60fiemjxmqf0tXWOleS1u4wyPb1lzS+4UU/ZH1jX12C8xvqcmj5m6rpxS7Zr4HPfz3jR9AxC9MfgDNxer6VuJzY/Wyo/tGV/SWrsnn4+RbfN4X5djlwrHIdpfXFtoc1vqWOf2qcbU8bIOnKPoPPlYFJf5tR5vn187Zgtd/xPASDtn8095I/dje2uktK6td19wHnxjvm5r/T3DvkbHZCk215LHeeo+TR0vyypdPz6WypH59NzPPr9l3NpuHwD4jQA77PFB4MY1trD1GqLjBq1r4/yoNvpSrXXOKdacaxQ4xvYzpXRc5jpuc8xTsz+yrrmujxZbzDnVHGue437em+ZvAEaDk1Y6cRE/1rdaPI7nz63NxyCXP4Wv61tONMavieM16y3VbFWql+pfml8Xz8trLsU5J9XPUvNEfTIWf+74HPF5RcuJxvi6HOc5I6WarabW4/FT1sJ8ba7rY8Br4fhIbh8A/E7ZQnknTdTnIc55pXGsdh7P+tDv46lcD2N9q1E7zsc4JxoX5U89J8ZecwP/2kvlA8d8TpRv/BjOad02qIPm5fpzonhqTK4fMc5BrCaei3m8baLcqM9L9cu6/Dnic4KYb+Bfe6l84JjPifKNH8M5rdsGddBapcZGtVL1c/2IcY6PAfp8G9HuvwEQERGRdi88ACz9pOK/EuE2kmh9aGsb9elRRGRp0Xswmkyz+jcA/isRbiOJ1ocmIiLriN6D0RCXPlf3Hl3r6ImIiBzIw7s3p6vHT57pAUBEROQg3nr/g9N791/TLwGKiIgckR4AREREDkgPACIiIgdU9QDw+quvnF/JKHRORERkit19A6APvmXs7bhewnWga3k7pWN/9HNzpP0/8rVQfACwnX/85Nl560upgzL1YNl4biOaus7WfM/GRudkS1P2Ry5Hy3Wwp2tG17fAJV0LXd8A2AGwD6DoQMzxwWQ1fBv1gO9lnSJrsfugVkvu1va0VlnWJV0L2QcAfNC34A9BbNvPpT4gUZvrYzsVNz4WxVvYseIaUW285n6DPu4H6+dzkhqT6je5mMnFOeZ/4rXJ9ftWo5Tv46kclsv3MY5jm2PY5n4oxfDTx7HN/QbbHItyAbFUTi7Golwel9vmmLE+tBzEU/nR+FRfNJ61jPX9HDO5GORyfIzj2OYYtrkfSjH89HFsc7/BNseiXEAslxNBbmpsVCvVF41nU8aOJvsPAdnORB82vq9m23CdlNKcNfP5XJOL+5iJ+iKpvFz9XMzk8qGUg+1cXhQzuXgqBlE/1zWpvKgmcJzrzlWztp69NqnxkKvJNXprmtx2az2Op6Rqp/rBb5dycyzX1NY2HDe142u3ud/4vijOUrX5NXDcpMZDribX6K1pctst9XK4tvFjS7Vbx7duj6j4DwHNuROtdWxu33LjS7W3PBGtc5fya84J4i1zc27L2JI5a8EcNafWWGJ8T00eM3VdvVLzWr9dt6bm+m0xtdZIa/G23q9ofE9NHjN1XTlL7HOvJfdzbk2/AxDdwLaNG3wuVtO3EpsfrZUf2zO+pLV2a37OlFqpsTjfPTVrpOYt8eN4bGu/8bEofolS53at47D1/GuovX9y++xjUVykVvMvAfLFt/UFaPPbTYXWyo/trZHSurap++JNqVUai37Lm1tu3hw/jsdHfbX7mMu5RNhXf27XPAZbz7+GaB89XZuyltsHAL4QcQF6fFFyS13Ma9p6DdFxg9a1cX6uthfNU5o7Fy+N3cLca9piH0c8rlPk9gfvDzXXb4uWYxjlznkO5qzlLVU3Z4s5p2pZc5Q75z7v6fjd/hKgLdjfnLxtoj4P8ZpaObXzeNZneP5Uru/DWI/HRGrHIc9iqblTfT6fx3oYY2pqGR6TinOMx3l+jOGa4GuYKIfxvFyba5pSXYxprce5wGM4x8d5zp6aPKa0bUr1gMdFovxoTpNaS+/8GJsbwzE/X2m8zzW8bXJjvVSM63nIsxyem+sbxDkXeAzn+DjP2VOTx5S2Ta5eDmr58bnayEVOabzPNbxtUmNHhV8CfOFvAUQ7J9vSORH5Kt0TAroW6v3zD359+/Ozb/2l/u+ARUREjir77wAswX9VwkZ6itvLOkWOSH/qO47Se7GuhTL8yR/wDcDqDwAiIiKynuQDwL1H13oAEBEROZCHd29O/w+vlKrWkZ0hlwAAAABJRU5ErkJggg==)\n",
        "\n",
        "Crie um processo de carga para as tabelas:\n",
        "1. air_plane_domestico e air_plane_internacional que pegue todos os arquivos disponíveis na pasta\n",
        "  * Crei um campo chamado cd_peri que contenha os campos ano e mês concatenados ou pegue do nome da folder.\n",
        "  * Como as tabelas não existem elas precisam ser criadas durante o processamento.\n",
        "  * As tabelas precisam estar particionadas, e a escolha da partição fica a seu critério.Por favor justifique o motivo\n",
        "  * Metadado dos arquivos estão nesse Link.\n",
        "    * https://www.gov.br/anac/pt-br/acesso-a-informacao/dados-abertos/areas-de-atuacao/voos-e-operacoes-aereas/tarifas-aereas-domesticas/46-tarifas-aereas-domesticas\n",
        "\n",
        "2. empresa_aerea que pega o arquivo na pasta\n",
        "  * Faça limpeza nos dados para que fique apenas os campos sigla, nome_empresa e tipo_origem.\n"
      ],
      "metadata": {
        "id": "nGuJEmd2CpnI"
      }
    },
    {
      "cell_type": "code",
      "source": [
        "#Segue exemplo de uma amostra de carga\n",
        "path = r\"/content/data/Air_Plane_Data/voos_domesticos/2023/202301.CSV\"\n",
        "\n",
        "df = spark.read.csv(path, sep=\";\", header=True)\n",
        "df.printSchema()\n",
        "df.show()\n",
        "df.write.format(\"delta\").mode(\"overwrite\").partitionBy(\"ano\", \"mes\").saveAsTable(\"b_nvr.air_plane_domestico\")\n"
      ],
      "metadata": {
        "id": "b-_Pehq6ZmDs"
      },
      "execution_count": null,
      "outputs": []
    },
    {
      "cell_type": "code",
      "source": [
        "#Adicione seu código aqui"
      ],
      "metadata": {
        "id": "m1uAwUC_iJb-"
      },
      "execution_count": null,
      "outputs": []
    },
    {
      "cell_type": "code",
      "source": [
        "#Mostre a lista de tabelas criadas\n",
        "spark.sql('show tables in b_nvr').show()"
      ],
      "metadata": {
        "id": "a3q-Pd0xPwnx"
      },
      "execution_count": null,
      "outputs": []
    },
    {
      "cell_type": "markdown",
      "source": [
        "Conforme visto o código de carga dos arquivos csv se repetem. Qual seria a melhor solução para reduzir o código? e como isso ficaria escrito?"
      ],
      "metadata": {
        "id": "4R59zDJlhUzW"
      }
    },
    {
      "cell_type": "code",
      "source": [
        "#Adicione sua resposta aqui"
      ],
      "metadata": {
        "id": "8EBDA97uiR8W"
      },
      "execution_count": null,
      "outputs": []
    },
    {
      "cell_type": "markdown",
      "source": [
        "#Carga Silver"
      ],
      "metadata": {
        "id": "m-mbzDsTerxa"
      }
    },
    {
      "cell_type": "markdown",
      "source": [
        "Com as três tabelas bronze prontas, será necessário criar uma tabela\n",
        "1. **air_plane** que tenha a união das duas tabelas bronze ( **air_plane_domestico** e **air_plane_internacional**)\n",
        "  * Tenha um campos onde é possível identifica o tipo de voo.\n",
        "  * Enriquecer com a tabela **empresa_area** e agrege o nome_empresa.\n",
        "  * A tabela precisa ser particionada."
      ],
      "metadata": {
        "id": "Q6JPskuYP5Q0"
      }
    },
    {
      "cell_type": "code",
      "source": [
        "#Adicione seu código"
      ],
      "metadata": {
        "id": "bvi40l54f7DX"
      },
      "execution_count": null,
      "outputs": []
    },
    {
      "cell_type": "markdown",
      "source": [
        "#Analises\n",
        "Analise a tabela criada e responda essas dúvidas\n",
        "1. Identifique por ano a empresa que:\n",
        "  * Mais vendeu assentos ?\n",
        "  * Menos vendeu assentos ?\n",
        "  * Mais pagou tarifas por tipo de voo ?\n",
        "  * Mostre as 10 melhores empresas por tipo de voo ?"
      ],
      "metadata": {
        "id": "hjqip0hwgAvW"
      }
    },
    {
      "cell_type": "code",
      "source": [
        "#Adicione seu código aqui"
      ],
      "metadata": {
        "id": "rVhNwI6hhLIy"
      },
      "execution_count": null,
      "outputs": []
    }
  ]
}